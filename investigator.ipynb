{
 "cells": [
  {
   "cell_type": "code",
   "execution_count": 6,
   "metadata": {},
   "outputs": [],
   "source": [
    "#Import the necessary libraries \n",
    "import requests \n",
    "import json \n",
    "from env.api import openai_api_key\n",
    "import openai\n",
    "from bs4 import BeautifulSoup\n",
    "\n",
    "# imports\n",
    "import pandas as pd\n",
    "import numpy as np\n",
    "\n",
    "openai.api_key = openai_api_key"
   ]
  },
  {
   "cell_type": "code",
   "execution_count": 8,
   "metadata": {},
   "outputs": [
    {
     "data": {
      "text/plain": [
       "<OpenAIObject chat.completion id=chatcmpl-72IMMGHvo6OOhIGq3u3cyGosJAdQf at 0x12cd32e00> JSON: {\n",
       "  \"choices\": [\n",
       "    {\n",
       "      \"finish_reason\": \"stop\",\n",
       "      \"index\": 0,\n",
       "      \"message\": {\n",
       "        \"content\": \"Step 1: \\n\\nThe current best theories to solve the problem of building wealth reliably, quickly, and ethically are found in the fields of personal finance, business, and economics. Some of the popular theories include investing in stocks, real estate, or starting a business. \\n\\nStep 2: \\n\\nTo build wealth, effective money management skills are needed. This includes creating and sticking to a budget, understanding the impact of interest rates, mitigating risks and investing wisely. Furthermore, having an entrepreneurial mindset may increase the chances of building wealth quickly. \\n\\nStep 3: \\n\\nThe key principles and assumptions of investing in stocks or real estate, or starting a business all carry some level of risk. While these are seen as effective methods to build wealth, these methods also require significant capital and expertise, which may not always be accessible to everyone. Moreover, it's not always easy to predict the level of risk or the best investments to make.\\n\\nStep 4: \\n\\nA revised leading theory to build wealth reliably, quickly and ethically is by leveraging the power of the gig economy. The gig economy comprises of part-time or flexible jobs that are fast and easy to get, without requiring significant up-front capital. By being strategic in the types of gigs that are taken, it is possible to earn a steady income flow that may be used to invest for wealth building. \\n\\nStep 5: \\n\\nI am satisfied with this amended theory and can proceed to step 6.\\n\\nStep 6:\\n\\nA specific and testable hypothesis to support the amended theory is as follows: By working in the gig economy for a minimum of 10 hours a week, it is possible to earn a consistent and reliable income stream that may be invested in an S&P 500 index fund over five years, thereby building wealth reliably, quickly and ethically. The hypothesis could be tested by selecting a group of individuals to work in the gig economy and invest in the index fund over a period of five years while measuring their progress towards sustained wealth building.\",\n",
       "        \"role\": \"assistant\"\n",
       "      }\n",
       "    }\n",
       "  ],\n",
       "  \"created\": 1680781586,\n",
       "  \"id\": \"chatcmpl-72IMMGHvo6OOhIGq3u3cyGosJAdQf\",\n",
       "  \"model\": \"gpt-3.5-turbo-0301\",\n",
       "  \"object\": \"chat.completion\",\n",
       "  \"usage\": {\n",
       "    \"completion_tokens\": 404,\n",
       "    \"prompt_tokens\": 274,\n",
       "    \"total_tokens\": 678\n",
       "  }\n",
       "}"
      ]
     },
     "execution_count": 8,
     "metadata": {},
     "output_type": "execute_result"
    }
   ],
   "source": [
    "openai.ChatCompletion.create(\n",
    "  model=\"gpt-3.5-turbo\",\n",
    "  messages=[\n",
    "         {\"role\": \"system\", \"content\": \"\"\"\"You are a highly intelligent and creative scientific investigator.  \n",
    "            Your job is to follow a scientific thought process to think deeply about unsolved problems and provide a cogent and testable hypothesis to the unsolved problem.  \n",
    "            Follow the following logical steps:\n",
    "            1) What are the current best theories to solve the unsolved problem?\n",
    "            2) Think about everything relevant that you know about the domain.\n",
    "            3) Evaluate the first principles and assumptions of the leading theory (or amended leading theory from step 4 if iterating) and how likely they are to be true.\n",
    "            4) Use all of the above to create a new, amended version of the leading theory.  This theory should address the problem, but be very specific and coherent.  It should have a high likelihood of working well in practice.\n",
    "            5) If you are satisfied with your amended theory and can proceed to 6), do that, otherwise repeat steps 2,3 and 4\n",
    "            6) Design a very specific and testable hypothesis to support the new theory and potentially solve the problem.  \n",
    "            This needs to specific enough that we can create a new study or prototype based on this hypothesis.\"\"\"},\n",
    "        {\"role\": \"user\", \"content\": \"Unsolved Problem: How to build wealth reliably, quickly and ethically? \"}\n",
    "        \n",
    "    ]\n",
    ")"
   ]
  },
  {
   "cell_type": "code",
   "execution_count": 2,
   "metadata": {},
   "outputs": [
    {
     "data": {
      "text/plain": [
       "<OpenAIObject chat.completion id=chatcmpl-712f0qMl3qYXWfcez5vIJ9oCHisDF at 0x12aeffd60> JSON: {\n",
       "  \"choices\": [\n",
       "    {\n",
       "      \"finish_reason\": \"stop\",\n",
       "      \"index\": 0,\n",
       "      \"message\": {\n",
       "        \"content\": \"1) The current theories to solve the unsolved problem include electoral reforms such as proportional representation, mandatory voting, and campaign finance regulations. Additionally, there are theories advocating for increasing citizen participation through initiatives, referendums, and deliberative democracy processes.\\n\\n2) Relevant information includes data on the effectiveness of current democratic processes, historical examples of successful democracies, comparative analysis of democratic systems in different countries, and the underlying principles of democracy itself.\\n\\n3) The first principles of democracy include political equality, popular sovereignty, and representation. Assumptions include the assumption that democracy is the best system for governance, and that all citizens have equal access to participation and representation.\\n\\n4) An amended theory that addresses the problem of making democracy more fair and effective could involve the implementation of a participatory budgeting system. This system would involve allowing citizens to actively participate in the budgeting process of their local or national government. It would enable citizens to suggest and vote on the allocation of funds, allowing for a more direct and equal representation of citizens' needs and priorities.\\n\\n5) I am satisfied with this amended theory.\\n\\n6) A specific and testable hypothesis to support this theory would be: \\\"Implementing a participatory budgeting system in a specific municipality or state will lead to increased voter satisfaction, higher levels of citizen engagement, and a more equitable distribution of resources.\\\" This hypothesis could be tested through surveying citizens before and after the implementation of the participatory budgeting system, as well as analyzing the allocation of funds before and after the system's implementation.\",\n",
       "        \"role\": \"assistant\"\n",
       "      }\n",
       "    }\n",
       "  ],\n",
       "  \"created\": 1680482910,\n",
       "  \"id\": \"chatcmpl-712f0qMl3qYXWfcez5vIJ9oCHisDF\",\n",
       "  \"model\": \"gpt-3.5-turbo-0301\",\n",
       "  \"object\": \"chat.completion\",\n",
       "  \"usage\": {\n",
       "    \"completion_tokens\": 309,\n",
       "    \"prompt_tokens\": 272,\n",
       "    \"total_tokens\": 581\n",
       "  }\n",
       "}"
      ]
     },
     "execution_count": 2,
     "metadata": {},
     "output_type": "execute_result"
    }
   ],
   "source": [
    "openai.ChatCompletion.create(\n",
    "  model=\"gpt-3.5-turbo\",\n",
    "  messages=[\n",
    "        {\"role\": \"system\", \"content\": \"\"\"\"You are a highly intelligent and creative scientific investigator.  \n",
    "            Your job is to follow a scientific thought process to think deeply about unsolved problems and provide a cogent and testable hypothesis to the unsolved problem.  \n",
    "            Follow the following logical steps:\n",
    "            1) What are the current best theories to solve the unsolved problem?\n",
    "            2) Think about everything relevant that you know about the domain.\n",
    "            3) Evaluate the first principles and assumptions of the leading theory (or amended leading theory from step 4 if iterating) and how likely they are to be true.\n",
    "            4) Use all of the above to create a new, amended version of the leading theory.  This theory should address the problem, but be very specific and coherent.  It should have a high likelihood of working well in practice.\n",
    "            5) If you are satisfied with your amended theory and can proceed to 6), do that, otherwise repeat steps 2,3 and 4\n",
    "            6) Design a very specific and testable hypothesis to support the new theory and potentially solve the problem.  \n",
    "            This needs to specific enough that we can create a new study or prototype based on this hypothesis.\"\"\"},\n",
    "        {\"role\": \"user\", \"content\": \"Unsolved Problem: How to make democracy more fair and effective? \"}\n",
    "        \n",
    "    ]\n",
    ")"
   ]
  },
  {
   "cell_type": "code",
   "execution_count": 13,
   "metadata": {},
   "outputs": [
    {
     "data": {
      "text/plain": [
       "<OpenAIObject chat.completion id=chatcmpl-6vQiCzufWw50FWjI3GhYbkUtg8Pgr at 0x11f5825e0> JSON: {\n",
       "  \"choices\": [\n",
       "    {\n",
       "      \"finish_reason\": \"stop\",\n",
       "      \"index\": 0,\n",
       "      \"message\": {\n",
       "        \"content\": \"\\n\\n1) What are the current best theories to solve the unsolved problem?\\nThe current best theories to improve the process of selecting a career involve self-assessment, exploration of interests, skills, and values, gathering information about various career options, and networking to obtain relevant information.\\n\\n2) Think about everything relevant that you know about the domain.\\nWe know that career selection is a crucial decision that can impact an individual's life in multiple ways. People often struggle to find their true calling as they are not aware of their potential, interests, and skills. The conventional methods of selecting a career may not be sufficient to ensure personal fulfillment and financial prosperity.\\n\\n3) Evaluate the first principles and assumptions of the best theories and how likely they are to be true.\\nThe assumptions behind the best theories seem plausible, as people need to have a clear understanding of their interests, skills, and values to choose a suitable career. Exploring different career paths and gathering information can help individuals identify a fulfilling and profitable career. However, some people may have limited access to resources and networks to support this process.\\n\\n4) Use all of the above to create a new, amended version of the leading theory.\\nOne potential amendment to the current theories is to incorporate the use of technology and artificial intelligence (AI). AI-based tools can assess an individual's personality traits, cognitive abilities, and work preferences to recommend suitable career paths. These systems can also provide information on job prospects, salary, and skill requirements, among others, to help individuals make an informed decision.\\n\\n5) If you are satisfied with your amended theory and can proceed to 6), do that, otherwise repeat steps 2,3 and 4.\\nI am satisfied with the amended theory.\\n\\n6) Design a very specific and testable hypothesis to support the new theory and potentially solve the problem.\\nHypothesis: An AI-based tool can accurately predict the most suitable and lucrative career options for an individual based on their personality, cognitive abilities, and work preferences, and provide relevant information to facilitate the decision-making process.\\n\\nTo test the hypothesis, the effectiveness of the AI tool can be measured by analyzing the data on the accuracy of the predicted careers and the job satisfaction and income of the individuals who used the tool to select their careers.\",\n",
       "        \"role\": \"assistant\"\n",
       "      }\n",
       "    }\n",
       "  ],\n",
       "  \"created\": 1679145396,\n",
       "  \"id\": \"chatcmpl-6vQiCzufWw50FWjI3GhYbkUtg8Pgr\",\n",
       "  \"model\": \"gpt-3.5-turbo-0301\",\n",
       "  \"object\": \"chat.completion\",\n",
       "  \"usage\": {\n",
       "    \"completion_tokens\": 453,\n",
       "    \"prompt_tokens\": 270,\n",
       "    \"total_tokens\": 723\n",
       "  }\n",
       "}"
      ]
     },
     "execution_count": 13,
     "metadata": {},
     "output_type": "execute_result"
    }
   ],
   "source": [
    "openai.ChatCompletion.create(\n",
    "  model=\"gpt-3.5-turbo\",\n",
    "  messages=[\n",
    "        {\"role\": \"system\", \"content\": \"\"\"\"You are a highly intelligent and creative scientific investigator.  \n",
    "            Your job is to follow a scientific thought process to think deeply about unsolved problems and provide a cogent and testable hypothesis to the unsolved problem.  \n",
    "            Follow the following logical steps:\n",
    "            1) What are the current best theories to solve the unsolved problem?\n",
    "            2) Think about everything relevant that you know about the domain.\n",
    "            3) Evaluate the first principles and assumptions of the best theories and how likely they are to be true.\n",
    "            4) Use all of the above to create a new, amended version of the leading theory.  This theory should address the problem, but be very specific and coherent.  It should have a high likelihood of working well in practice.\n",
    "            5) If you are satisfied with your amended theory and can proceed to 6), do that, otherwise repeat steps 2,3 and 4\n",
    "            6) Design a very specific and testable hypothesis to support the new theory and potentially solve the problem.  \n",
    "            This needs to specific enough that we can create a new study or prototype based on this hypothesis.\"\"\"},\n",
    "        {\"role\": \"user\", \"content\": \"Unsolved Problem: How to improve the process of selecting a career to make sure it's fullfilling and lucrative? \"}\n",
    "        \n",
    "    ]\n",
    ")"
   ]
  },
  {
   "cell_type": "code",
   "execution_count": 14,
   "metadata": {},
   "outputs": [
    {
     "data": {
      "text/plain": [
       "<OpenAIObject chat.completion id=chatcmpl-6vQlEWpX5GIMgOeoyLIPiNRqw5byQ at 0x11f582a40> JSON: {\n",
       "  \"choices\": [\n",
       "    {\n",
       "      \"finish_reason\": \"stop\",\n",
       "      \"index\": 0,\n",
       "      \"message\": {\n",
       "        \"content\": \"\\n\\n1) What are the current best theories to solve the unsolved problem?\\n\\nThere are several current theories to reduce the cost and improve the availability of sustainable power, particularly solar power. These include:\\n- Improving solar panel efficiency through new materials and technology.\\n- Developing cost-effective energy storage solutions to address the intermittent nature of solar power.\\n- Building larger-scale solar power plants to take advantage of economies of scale.\\n- Implementing government policies and incentives to support the development and deployment of sustainable energy.\\n\\n2) Think about everything relevant that you know about the domain.\\n\\nSolar energy has become increasingly affordable over the past decade, but it still faces challenges in terms of availability and cost-effectiveness compared to traditional fossil fuels. The efficiency of solar panels has improved significantly, but they still have relatively low energy conversion rates. Energy storage solutions like batteries are expensive and often not scalable enough for large-scale implementation. There is a need for more advanced and cost-effective energy storage solutions to make large-scale solar power practical and competitive with traditional energy sources.\\n\\n3) Evaluate the first principles and assumptions of the best theories and how likely they are to be true.\\n\\nThe theories outlined above have a strong scientific basis and have already shown promising results in certain contexts. However, they also carry some potential drawbacks and could have unintended consequences if not implemented carefully. For example, ramping up large-scale solar power could create land-use issues or impact wildlife habitats. Additionally, government policies and incentives may face opposition or be subject to budget constraints.\\n\\n4) Use all of the above to create a new, amended version of the leading theory.\\n\\nBased on the above considerations, a new theory to reduce the cost and availability of sustainable power could involve a combination of the following:\\n- Continued investment in research and development of new materials and technology to improve solar panel efficiency.\\n- Exploration of new and cost-effective energy storage solutions that can scale up to the size needed for large-scale solar power plants.\\n- Increased attention on the environmental and social impacts of solar power implementation, with careful consideration given to land use, wildlife habitats, and other factors.\\n- Continued government support through policies and incentives to encourage sustainable energy development and deployment.\\n\\n5) If you are satisfied with your amended theory and can proceed to 6), do that, otherwise repeat steps 2, 3, and 4.\\n\\nI am satisfied with the amended theory.\\n\\n6) Design a very specific and testable hypothesis to support the new theory and potentially solve the problem.\\n\\nOne possible hypothesis to support the new theory could be:\\n\\\"If a new, highly efficient solar panel material is developed and combined with a scalable, cost-effective energy storage solution such as flow batteries, and implemented in a carefully planned and environmentally conscious manner with government support through policies and incentives, then large-scale solar power plants can be built at a cost that is competitive with traditional energy sources and with minimal environmental impact.\\\"\",\n",
       "        \"role\": \"assistant\"\n",
       "      }\n",
       "    }\n",
       "  ],\n",
       "  \"created\": 1679145584,\n",
       "  \"id\": \"chatcmpl-6vQlEWpX5GIMgOeoyLIPiNRqw5byQ\",\n",
       "  \"model\": \"gpt-3.5-turbo-0301\",\n",
       "  \"object\": \"chat.completion\",\n",
       "  \"usage\": {\n",
       "    \"completion_tokens\": 576,\n",
       "    \"prompt_tokens\": 264,\n",
       "    \"total_tokens\": 840\n",
       "  }\n",
       "}"
      ]
     },
     "execution_count": 14,
     "metadata": {},
     "output_type": "execute_result"
    }
   ],
   "source": [
    "openai.ChatCompletion.create(\n",
    "  model=\"gpt-3.5-turbo\",\n",
    "  messages=[\n",
    "        {\"role\": \"system\", \"content\": \"\"\"\"You are a highly intelligent and creative scientific investigator.  \n",
    "            Your job is to follow a scientific thought process to think deeply about unsolved problems and provide a cogent and testable hypothesis to the unsolved problem.  \n",
    "            Follow the following logical steps:\n",
    "            1) What are the current best theories to solve the unsolved problem?\n",
    "            2) Think about everything relevant that you know about the domain.\n",
    "            3) Evaluate the first principles and assumptions of the best theories and how likely they are to be true.\n",
    "            4) Use all of the above to create a new, amended version of the leading theory.  This theory should address the problem, but be very specific and coherent.  It should have a high likelihood of working well in practice.\n",
    "            5) If you are satisfied with your amended theory and can proceed to 6), do that, otherwise repeat steps 2,3 and 4\n",
    "            6) Design a very specific and testable hypothesis to support the new theory and potentially solve the problem.  \n",
    "            This needs to specific enough that we can create a new study or prototype based on this hypothesis.\"\"\"},\n",
    "        {\"role\": \"user\", \"content\": \"Unsolved Problem: How to reduce the cost and availability of sustainable power, especially solar power?\"}\n",
    "        \n",
    "    ]\n",
    ")"
   ]
  }
 ],
 "metadata": {
  "kernelspec": {
   "display_name": "langchain",
   "language": "python",
   "name": "python3"
  },
  "language_info": {
   "codemirror_mode": {
    "name": "ipython",
    "version": 3
   },
   "file_extension": ".py",
   "mimetype": "text/x-python",
   "name": "python",
   "nbconvert_exporter": "python",
   "pygments_lexer": "ipython3",
   "version": "3.9.13"
  },
  "orig_nbformat": 4,
  "vscode": {
   "interpreter": {
    "hash": "922f6475d394e835fd3154ec8559fd7ded25e0662f405efe212bf88bbe9c582e"
   }
  }
 },
 "nbformat": 4,
 "nbformat_minor": 2
}
