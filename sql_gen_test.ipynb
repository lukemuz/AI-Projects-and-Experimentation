{
 "cells": [
  {
   "cell_type": "code",
   "execution_count": 2,
   "metadata": {},
   "outputs": [],
   "source": [
    "#Import the necessary libraries \n",
    "import requests \n",
    "import json \n",
    "from env.api import openai_api_key\n",
    "import openai\n",
    "\n",
    "# imports\n",
    "import pandas as pd\n",
    "import numpy as np\n",
    "\n",
    "\n",
    "from openai.embeddings_utils import cosine_similarity, get_embedding\n",
    "from sklearn.metrics import PrecisionRecallDisplay\n",
    "\n",
    "openai.api_key = openai_api_key\n",
    "\n",
    "# parameters\n",
    "EMBEDDING_MODEL = \"text-embedding-ada-002\""
   ]
  },
  {
   "cell_type": "code",
   "execution_count": 3,
   "metadata": {},
   "outputs": [],
   "source": [
    "def remove_newline(text):\n",
    "    return text.replace('\\n', '')"
   ]
  },
  {
   "cell_type": "code",
   "execution_count": 12,
   "metadata": {},
   "outputs": [],
   "source": [
    "sample_schema=\"\"\"\n",
    "    {\n",
    "    tables: dw_policies{\n",
    "        columns:[incurred_loss, earned_prem, written_prem, earned_exp, claim_count, policy_id, quote_id, \n",
    "            effective_date,accident_date,calendar_date]\n",
    "        keys: [policy_idD, quote_id]\n",
    "        },\n",
    "    dw_quotes{\n",
    "        columns:[quote_id, partner_id, partner_name,state_abbrev]\n",
    "        keys: [quote_id]\n",
    "    }\n",
    "    \"\"\""
   ]
  },
  {
   "cell_type": "code",
   "execution_count": 83,
   "metadata": {},
   "outputs": [],
   "source": [
    "\n",
    "\n",
    "def generate_sql_preamble(schema:str,sql_type='snowflake'):\n",
    "    table_desc= \"Using only the following schema: \\n\" + schema + \"\\n\" + \"write a \" + sql_type + \"sql query that performs the following\" \n",
    "    return table_desc\n",
    "\n",
    "table_desc = generate_sql_preamble(sample_schema)"
   ]
  },
  {
   "cell_type": "code",
   "execution_count": 9,
   "metadata": {},
   "outputs": [],
   "source": [
    "prompt=\"group by the month and year of accident date and state, and then sum premium and losses and calculate loss ratio\"\n"
   ]
  },
  {
   "cell_type": "code",
   "execution_count": 38,
   "metadata": {},
   "outputs": [],
   "source": [
    "prompt2=\"calculate the loss ratio for wisconsin in the calendar year of 2020\"\n"
   ]
  },
  {
   "cell_type": "code",
   "execution_count": 85,
   "metadata": {},
   "outputs": [],
   "source": [
    "def get_AI_sql_query(prompt:str,schema_str,model='text-davinci-003',temperature=.1,max_tokens=2000):\n",
    "    \n",
    "    total_prompt=generate_sql_preamble(schema_str) + prompt\n",
    "    response=openai.Completion.create(prompt=total_prompt, model=model,temperature=temperature,max_tokens=max_tokens)\n",
    "    sql_out=response['choices'][0]['text']\n",
    "    return sql_out\n",
    "    \n"
   ]
  },
  {
   "cell_type": "code",
   "execution_count": 13,
   "metadata": {},
   "outputs": [
    {
     "name": "stdout",
     "output_type": "stream",
     "text": [
      "\n",
      "\n",
      "SELECT \n",
      "    DATE_TRUNC('month', dw_policies.accident_date) AS month_year,\n",
      "    dw_quotes.state_abbrev,\n",
      "    SUM(dw_policies.earned_prem) AS total_premium,\n",
      "    SUM(dw_policies.incurred_loss) AS total_losses,\n",
      "    SUM(dw_policies.incurred_loss) / SUM(dw_policies.earned_prem) AS loss_ratio\n",
      "FROM dw_policies\n",
      "INNER JOIN dw_quotes\n",
      "    ON dw_policies.quote_id = dw_quotes.quote_id\n",
      "GROUP BY\n",
      "    DATE_TRUNC('month', dw_policies.accident_date),\n",
      "    dw_quotes.state_abbrev;\n"
     ]
    }
   ],
   "source": [
    "print(get_AI_sql_query(prompt,sample_schema))"
   ]
  },
  {
   "cell_type": "code",
   "execution_count": 87,
   "metadata": {},
   "outputs": [],
   "source": [
    "def get_column_count(prompt,excess_columns=10, model='text-curie-001',temperature=.05,max_tokens=500):\n",
    "    column_count_prompt=\"How many columns are needed for the following query? Respond with only a numerical character: \"\n",
    "    total_column_count_prompt=column_count_prompt+prompt\n",
    "\n",
    "    response=openai.Completion.create(prompt=total_column_count_prompt, model=model,temperature=temperature,max_tokens=max_tokens)\n",
    "    response_str=remove_newline(response['choices'][0]['text'])\n",
    "    try:\n",
    "        out=int(response_str)\n",
    "        return out + excess_columns\n",
    "    except ValueError:\n",
    "        print(\"Warning: Could not estimate column count needed, defaulting to 20\")\n",
    "        return 20\n",
    "    \n",
    " "
   ]
  },
  {
   "cell_type": "code",
   "execution_count": 15,
   "metadata": {},
   "outputs": [
    {
     "data": {
      "text/plain": [
       "11"
      ]
     },
     "execution_count": 15,
     "metadata": {},
     "output_type": "execute_result"
    }
   ],
   "source": [
    "get_column_count(prompt)"
   ]
  },
  {
   "cell_type": "code",
   "execution_count": 19,
   "metadata": {},
   "outputs": [],
   "source": [
    "\n",
    "sample_schema2=\"\"\"\n",
    "Table 1: Customers\n",
    "Columns: CustomerID, FirstName, LastName, Address, City, State, ZipCode\n",
    "\n",
    "Table 2: Orders\n",
    "Columns: OrderID, CustomerID, SalesPersonID, OrderDate, ShippingAddress, ShippingCity, ShippingState, ShippingZipCode \n",
    "\n",
    "Table 3: OrderItems \n",
    "Columns: OrderItemID, OrderID, ProductID, Quantity \n",
    "\n",
    "Table 4: Products \n",
    "Columns: ProductID, Name, Description, Price, Type, ManufacturingCost\n",
    "\n",
    "Table 5: SalesPeople\n",
    "Columns: SalesPersonID, FirstName LastName, Region, CommissionRate\n",
    "\"\"\""
   ]
  },
  {
   "cell_type": "code",
   "execution_count": 26,
   "metadata": {},
   "outputs": [
    {
     "name": "stdout",
     "output_type": "stream",
     "text": [
      "\n",
      "\n",
      "SELECT p.Name, SUM(oi.Quantity * (p.Price - p.ManufacturingCost - (p.Price * sp.CommissionRate))) AS TotalProfitability\n",
      "FROM Products p\n",
      "JOIN OrderItems oi ON oi.ProductID = p.ProductID\n",
      "JOIN Orders o ON o.OrderID = oi.OrderID\n",
      "JOIN SalesPeople sp ON sp.SalesPersonID = o.SalesPersonID\n",
      "JOIN Customers c ON c.CustomerID = o.CustomerID\n",
      "WHERE YEAR(o.OrderDate) = 2022 AND c.State = 'Wisconsin'\n",
      "GROUP BY p.Name;\n"
     ]
    }
   ],
   "source": [
    "prompt3= \"\"\"\"\n",
    "    sum the total profitability by product for all sales in wisconsin in 2022.  \n",
    "    Include the cost of commission in the calculation of profitability\n",
    "    \"\"\"\"\n",
    "print(get_AI_sql_query(prompt3,schema_str=sample_schema2))"
   ]
  },
  {
   "cell_type": "code",
   "execution_count": 65,
   "metadata": {},
   "outputs": [],
   "source": [
    "def knn_cosine_similarity(query:str,documents,document_embeddings, k):\n",
    "    query_embedding=get_embedding(query, engine=EMBEDDING_MODEL)\n",
    "    similarities = []\n",
    "    for document, embedding in zip(documents,document_embeddings):\n",
    "        sim_iter=cosine_similarity(query_embedding,embedding)\n",
    "        similarities.append((document, sim_iter))\n",
    "\n",
    "    sorted_similarities = sorted(similarities, key=lambda x: x[1], reverse=True) \n",
    "\n",
    "    best_labels = [x[0] for x in sorted_similarities[:k]] \n",
    "    similarities = [x[1] for x in sorted_similarities[:k]] \n",
    "\n",
    "    return best_labels"
   ]
  },
  {
   "cell_type": "code",
   "execution_count": 27,
   "metadata": {},
   "outputs": [],
   "source": [
    "sample_schema_dict = {\n",
    "    'Customers': {\n",
    "        'columns': ['CustomerID', 'FirstName', 'LastName', 'Address', 'City', 'State', 'ZipCode']\n",
    "    },\n",
    "    'Orders': {\n",
    "        'columns': ['OrderID', 'CustomerID', 'SalesPersonID', 'OrderDate', \n",
    "                    'ShippingAddress', 'ShippingCity', 'ShippingState','ShippingZipCode']\n",
    "    }, \n",
    "    'OrderItems': {\n",
    "        'columns': ['OrderItemID','OrderID','ProductID','Quantity']\n",
    "    }, \n",
    "    'Products': { \n",
    "        'columns': ['ProductID','Name','Description','Price','ProductTypeID','ManufacturingCost','ColorID','ShippingDimX','ShippingDimY','ShippingDimZ','ShippingWeight'] \n",
    "    }, \n",
    "    \"SalesPeople\": { \n",
    "        \"columns\": [\"SalesPersonID\", \"FirstName\", \"LastName\", \"Region\", \"CommissionRate\"] \n",
    "     },\n",
    "    'ProductTypes': { \n",
    "        'columns': ['ProductTypeID','ProductTypeDescription','ManufacturingPlantID'] \n",
    "    },\n",
    "    'ManufacturingPlants': { \n",
    "        'columns': ['ManufacturingPlantID','Country',\"StateRegion\"] \n",
    "    }\n",
    "}"
   ]
  },
  {
   "cell_type": "code",
   "execution_count": 53,
   "metadata": {},
   "outputs": [],
   "source": [
    "def flatten_schema(schema_dict:dict):\n",
    "    data_out=pd.DataFrame(columns=['table','column'])\n",
    "    for table, columns in schema_dict.items():\n",
    "        for column in columns['columns']: ##need to make this more robust\n",
    "            data_out=pd.concat([data_out,pd.DataFrame( data={'table':table,'column':column},index=[0])])\n",
    "    return data_out\n",
    "\n"
   ]
  },
  {
   "cell_type": "code",
   "execution_count": 55,
   "metadata": {},
   "outputs": [],
   "source": [
    "schema_data=flatten_schema(sample_schema_dict)\n",
    "\n",
    "schema_data['embeddings'] = schema_data.apply(lambda x: get_embedding(x['column'],engine=EMBEDDING_MODEL) , axis=1)"
   ]
  },
  {
   "cell_type": "code",
   "execution_count": 62,
   "metadata": {},
   "outputs": [
    {
     "name": "stdout",
     "output_type": "stream",
     "text": [
      "Could not convert string to integer.\n"
     ]
    },
    {
     "data": {
      "text/plain": [
       "(['Products:ManufacturingCost',\n",
       "  'Products:Price',\n",
       "  'SalesPeople:CommissionRate',\n",
       "  'OrderItems:Quantity',\n",
       "  'OrderItems:ProductID',\n",
       "  'Products:ProductID',\n",
       "  'Orders:SalesPersonID',\n",
       "  'SalesPeople:SalesPersonID',\n",
       "  'Products:ShippingWeight',\n",
       "  'ProductTypes:ProductTypeDescription',\n",
       "  'Customers:State',\n",
       "  'Orders:CustomerID',\n",
       "  'Customers:CustomerID',\n",
       "  'SalesPeople:Region',\n",
       "  'Products:ShippingDimZ'],\n",
       " [0.7947047602896089,\n",
       "  0.7901440959178926,\n",
       "  0.765955064742226,\n",
       "  0.7645188042884107,\n",
       "  0.7614922740164835,\n",
       "  0.7614922740164835,\n",
       "  0.7611632894064284,\n",
       "  0.761149176654435,\n",
       "  0.759727795420023,\n",
       "  0.7556596847497794,\n",
       "  0.7546947558375547,\n",
       "  0.7542914105006838,\n",
       "  0.7542804780908171,\n",
       "  0.7521845072981967,\n",
       "  0.7518444457610142])"
      ]
     },
     "execution_count": 62,
     "metadata": {},
     "output_type": "execute_result"
    }
   ],
   "source": [
    "schema_labels_list=(schema_data['table']+ ':' + schema_data['column']).to_list()\n",
    "\n",
    "k=get_column_count(prompt3)\n",
    "knn_cosine_similarity(prompt3,documents=schema_labels_list,document_embeddings=schema_data['embeddings'],k=k)"
   ]
  },
  {
   "cell_type": "code",
   "execution_count": 63,
   "metadata": {},
   "outputs": [
    {
     "data": {
      "text/plain": [
       "(['Products:ColorID',\n",
       "  'Orders:CustomerID',\n",
       "  'Customers:CustomerID',\n",
       "  'OrderItems:ProductID',\n",
       "  'Products:ProductID',\n",
       "  'OrderItems:OrderID',\n",
       "  'Orders:OrderID',\n",
       "  'SalesPeople:SalesPersonID',\n",
       "  'Orders:SalesPersonID',\n",
       "  'Products:ProductTypeID',\n",
       "  'ProductTypes:ProductTypeID',\n",
       "  'OrderItems:OrderItemID',\n",
       "  'Products:Name',\n",
       "  'ProductTypes:ManufacturingPlantID',\n",
       "  'ManufacturingPlants:ManufacturingPlantID'],\n",
       " [0.8392546286171951,\n",
       "  0.8173117715855429,\n",
       "  0.8172743121043944,\n",
       "  0.8152707950045406,\n",
       "  0.8152707950045406,\n",
       "  0.8129136976760638,\n",
       "  0.8128540464313366,\n",
       "  0.8062273414133921,\n",
       "  0.8061629454786857,\n",
       "  0.8013942899803265,\n",
       "  0.8013942899803265,\n",
       "  0.798274964391725,\n",
       "  0.7859698386694702,\n",
       "  0.7831799801511035,\n",
       "  0.7831799801511035])"
      ]
     },
     "execution_count": 63,
     "metadata": {},
     "output_type": "execute_result"
    }
   ],
   "source": [
    "id_col_prompt=\"ID column, key or identifier\"\n",
    "knn_cosine_similarity(id_col_prompt,documents=schema_labels_list,document_embeddings=schema_data['embeddings'],k=15)"
   ]
  },
  {
   "cell_type": "code",
   "execution_count": 88,
   "metadata": {},
   "outputs": [],
   "source": [
    "def get_schema_subset_str(prompt,schema_data:pd.DataFrame):\n",
    "    k=get_column_count(prompt)\n",
    "    schema_labels_list=(schema_data['table']+ ':' + schema_data['column']).to_list()\n",
    "    column_data=knn_cosine_similarity(prompt,documents=schema_labels_list,document_embeddings=schema_data['embeddings'],k=k)\n",
    "    \n",
    "    id_col_prompt=\"ID columns, keys or identifiers related to the following prompt: \" + prompt\n",
    "    key_data= knn_cosine_similarity(id_col_prompt,documents=schema_labels_list,document_embeddings=schema_data['embeddings'],k=15)\n",
    "    delimiter=', '\n",
    "    schema_text='Schema Format is (Table:Column) \\n' + delimiter.join(column_data) + delimiter.join(key_data)\n",
    "    return schema_text\n",
    "\n"
   ]
  },
  {
   "cell_type": "code",
   "execution_count": 89,
   "metadata": {},
   "outputs": [
    {
     "name": "stdout",
     "output_type": "stream",
     "text": [
      "Warning: Could not estimate column count needed, defaulting to 20\n",
      "\n",
      "SELECT SUM(Products.Price * OrderItems.Quantity) AS Total_Revenue, \n",
      "       SUM(Products.Price * OrderItems.Quantity * SalesPeople.CommissionRate) AS Total_Commission\n",
      "FROM Products \n",
      "INNER JOIN OrderItems ON Products.ProductID = OrderItems.ProductID\n",
      "INNER JOIN Orders ON OrderItems.OrderID = Orders.OrderID\n",
      "INNER JOIN SalesPeople ON Orders.SalesPersonID = SalesPeople.SalesPersonID\n",
      "INNER JOIN Customers ON Orders.CustomerID = Customers.CustomerID\n",
      "WHERE SalesPeople.FirstName = 'Jerry' \n",
      "AND YEAR(Orders.OrderDate) = 2023;\n"
     ]
    }
   ],
   "source": [
    "prompt4=\"\"\" \n",
    "    What is the total revenue sold by Jerry in 2023?  And how much total commission did we pay him?\n",
    "    \n",
    "    \"\"\"\n",
    "\n",
    "schema_subset_str= get_schema_subset_str(prompt4,schema_data)\n",
    "\n",
    "print(get_AI_sql_query(prompt4,schema_subset_str))"
   ]
  },
  {
   "cell_type": "code",
   "execution_count": 90,
   "metadata": {},
   "outputs": [
    {
     "name": "stdout",
     "output_type": "stream",
     "text": [
      "\n",
      "SELECT SUM(OrderItems.Quantity)\n",
      "FROM OrderItems\n",
      "INNER JOIN Products ON OrderItems.ProductID = Products.ProductID\n",
      "INNER JOIN Orders ON OrderItems.OrderID = Orders.OrderID\n",
      "INNER JOIN Customers ON Orders.CustomerID = Customers.CustomerID\n",
      "WHERE Products.Description = 'Johnson Rods'\n",
      "AND Customers.State = 'Wisconsin'\n",
      "AND Orders.OrderDate BETWEEN '2022-10-01' AND '2022-12-31';\n"
     ]
    }
   ],
   "source": [
    "prompt4=\"\"\" \n",
    "    How many 'Johnson Rods' did we sell during the fourth finanical quarter of 2022 in Wisconsin?\n",
    "    \n",
    "    \"\"\"\n",
    "\n",
    "schema_subset_str= get_schema_subset_str(prompt4,schema_data)\n",
    "\n",
    "print(get_AI_sql_query(prompt4,schema_subset_str))"
   ]
  },
  {
   "cell_type": "code",
   "execution_count": 91,
   "metadata": {},
   "outputs": [
    {
     "name": "stdout",
     "output_type": "stream",
     "text": [
      "\n",
      "SELECT SUM(OrderItems.Quantity * Products.Price * SalesPeople.CommissionRate) AS TotalCommission\n",
      "FROM OrderItems\n",
      "INNER JOIN Products ON OrderItems.ProductID = Products.ProductID\n",
      "INNER JOIN Orders ON OrderItems.OrderID = Orders.OrderID\n",
      "INNER JOIN Customers ON Orders.CustomerID = Customers.CustomerID\n",
      "INNER JOIN SalesPeople ON Orders.SalesPersonID = SalesPeople.SalesPersonID\n",
      "WHERE SalesPeople.FirstName = 'Newman'\n",
      "AND Products.Description = 'Johnson Rods'\n",
      "AND YEAR(Orders.OrderDate) = 2022;\n"
     ]
    }
   ],
   "source": [
    "prompt4=\"\"\" \n",
    "    How much commission did we pay Newman in 2022 to sell 'Johnson Rods'?  \n",
    "    \n",
    "    \"\"\"\n",
    "\n",
    "schema_subset_str= get_schema_subset_str(prompt4,schema_data)\n",
    "\n",
    "print(get_AI_sql_query(prompt4,schema_subset_str))"
   ]
  }
 ],
 "metadata": {
  "kernelspec": {
   "display_name": "coffee_env",
   "language": "python",
   "name": "python3"
  },
  "language_info": {
   "codemirror_mode": {
    "name": "ipython",
    "version": 3
   },
   "file_extension": ".py",
   "mimetype": "text/x-python",
   "name": "python",
   "nbconvert_exporter": "python",
   "pygments_lexer": "ipython3",
   "version": "3.9.13"
  },
  "orig_nbformat": 4,
  "vscode": {
   "interpreter": {
    "hash": "a8c6824307dd51bed22e89243736abddb6cf815bc48a821ad611f592e74328a9"
   }
  }
 },
 "nbformat": 4,
 "nbformat_minor": 2
}
