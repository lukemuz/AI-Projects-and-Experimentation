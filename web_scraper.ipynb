{
 "cells": [
  {
   "cell_type": "code",
   "execution_count": 43,
   "metadata": {},
   "outputs": [],
   "source": [
    "#Import the necessary libraries \n",
    "import requests \n",
    "import json \n",
    "from env.api import google_api_key, google_engine_id\n",
    "from urllib.request import urlopen\n",
    "from bs4 import BeautifulSoup\n",
    "from env.api import openai_api_key\n",
    "import openai"
   ]
  },
  {
   "cell_type": "code",
   "execution_count": 44,
   "metadata": {},
   "outputs": [],
   "source": [
    "\n",
    "#query = 'football results' \n",
    "def get_google_search_results(query,api_key,cx,n=4):\n",
    "    ##input a query, a number of links to return, and relevant keys\n",
    "    ##output a list of strings of the urls of search results\n",
    "\n",
    "    url = f\"https://www.googleapis.com/customsearch/v1?key={api_key}&cx={cx}&q={query}\" \n",
    "\n",
    "    #Make the request and get the response in JSON format \n",
    "    response = requests.get(url) \n",
    "    data = response.json() \n",
    "    link_list=[]\n",
    "    for i in range(n):\n",
    "        link_list.append(data['items'][i]['link'])\n",
    "    return link_list"
   ]
  },
  {
   "cell_type": "code",
   "execution_count": 45,
   "metadata": {},
   "outputs": [],
   "source": [
    "### get text from website\n",
    "def get_web_text(url):\n",
    "\n",
    "    #url = \"http://news.bbc.co.uk/2/hi/health/2284783.stm\"\n",
    "    try:\n",
    "        html = urlopen(url).read()\n",
    "    except:\n",
    "        return \" \"\n",
    "    \n",
    "    soup = BeautifulSoup(html, features=\"html.parser\")\n",
    "\n",
    "    tags=['h1','h2','h3','h4','h5','h6','p']\n",
    "    # get text\n",
    "    text=\"\" \n",
    "    for tag in tags:\n",
    "        soup_segment=soup.find_all(tag)\n",
    "        if soup_segment is not None:\n",
    "            for seg in soup_segment:\n",
    "                text=text+\" \"+seg.text\n",
    "\n",
    "\n",
    "    return text\n",
    "\n"
   ]
  },
  {
   "cell_type": "code",
   "execution_count": 46,
   "metadata": {},
   "outputs": [],
   "source": [
    "def get_all_text_from_links(url_list):\n",
    "    text_out=\"\"\n",
    "    for url in url_list:\n",
    "        text_out=text_out+\" \"+ get_web_text(url)\n",
    "    return text_out\n"
   ]
  },
  {
   "cell_type": "code",
   "execution_count": 47,
   "metadata": {},
   "outputs": [],
   "source": [
    "def get_google_text_from_query(query,api_key,cx,n=4):\n",
    "    url_list=get_google_search_results(query,api_key=api_key,cx=cx,n=n)\n",
    "    all_text=get_all_text_from_links(url_list)\n",
    "    return all_text"
   ]
  },
  {
   "cell_type": "code",
   "execution_count": 48,
   "metadata": {},
   "outputs": [],
   "source": [
    "openai.api_key = openai_api_key"
   ]
  },
  {
   "cell_type": "code",
   "execution_count": 77,
   "metadata": {},
   "outputs": [],
   "source": [
    "ex_query=\"Did the Eagles win today?\"\n",
    "web_text=get_google_text_from_query(ex_query,api_key=google_api_key,cx=google_engine_id,n=1)\n",
    "ai_query= \"Based on the following text, answer this question: \"+ex_query+\":\" + web_text\n",
    "response=openai.Completion.create(prompt=ai_query, engine='text-davinci-003',top_p=1)\n"
   ]
  },
  {
   "cell_type": "code",
   "execution_count": 78,
   "metadata": {},
   "outputs": [
    {
     "data": {
      "text/plain": [
       "' \\n\\nNo, the Eagles did not win today.'"
      ]
     },
     "execution_count": 78,
     "metadata": {},
     "output_type": "execute_result"
    }
   ],
   "source": [
    "response['choices'][0]['text']"
   ]
  },
  {
   "cell_type": "code",
   "execution_count": 79,
   "metadata": {},
   "outputs": [
    {
     "data": {
      "text/plain": [
       "\"  \\n                Philadelphia Eagles\\n             \\n        Top Eagles News\\n\\n             \\n2023 Super Bowl lookahead: How to watch, odds, pick\\n \\n'Burrowhead, my ass': Chiefs talk trash after AFC title\\n \\nWhen is 2023 Super Bowl: Eagles vs. Chiefs\\n \\nHurts proves Eagles right, even if franchise was unsure\\n \\nSuper Bowl LVII: How to watch, everything to know\\n \\n2023 NFL Playoff schedule: Dates, times for every round\\n \\n2023 NFL Playoffs: Schedule, dates, TV, results\\n \\n                                            Eagles' DeVonta Smith: Modest numbers against Niners\\n                                         \\n                                            Eagles' A.J. Brown: Manages four catches in rout\\n                                         \\nLOOK: Empire State Building lights up in Eagles colors\\n \\n                                            Eagles' Dallas Goedert: Team-high five grabs Sunday\\n                                         \\n                                            Eagles' Miles Sanders: Finds end zone twice against Niners\\n                                         \\n                                            Eagles' Jalen Hurts: Quiet performance in big win\\n                                         \\nEagles pass rush impacts championship game\\n \\nHurts, Eagles soar into Super Bowl, rout 49ers for NFC title\\n \\nEagles DC Jonathan Gannon says he's returning in 2023\\n \\n49ers could have benefitted from former 'third QB' rule\\n \\n                                            Eagles' Landon Dickerson: Dealing with left elbow issue\\n                                         \\nTrent Williams tossed during 49ers-Eagles fight\\n \\nHurts makes history; Eagles break 50-year-old record\\n \\n49ers' Brock Purdy returns to lineup with Johnson out\\n \\n49ers one more injury from playing fullback at QB\\n \\nPotential punting mishap affects Eagles vs. 49ers\\n \\nBest-dressed players in NFL conference championships\\n \\nDeVonta Smith's drop ruled a catch as Eagles score TD\\n \\n                        NFC East Standings\\n\\n                                             \\n                        Schedule\\n\\n                                             \\n                        Team Statistical Rankings\\n\\n                                             \\n                        Injuries\\n\\n                                             \\n                        Eagles Tickets\\n\\n                                                     \\n\\n            Next Game\\n        \\n \\nGames\\n \\n\\n                            Caesars Sportsbook\\n                    \\n \\nFantasy Football\\n \\nFootball Pick'em\\n \\nCollege Pick'em\\n \\nFantasy Baseball\\n \\nFantasy Basketball\\n \\nFantasy Hockey\\n \\nFranchise Games\\n \\n24/7 Sports News Network\\n \\n    BET WITH CAESARS\\n \\n                                    Pick Six\\n                                 \\n                                    House of Champions\\n                                 \\n                                                            Play Now\\n                                                         \\nFootball Pick'em\\n \\n                                                            Play Now\\n                                                         \\nCollege Football Pick'em\\n \\nYour Daily NFL Fix\\n \\nDaily Soccer Podcast\\n Smith caught two of three targets for a team-high 36 yards in Sunday's 31-7 win over the 49ers in the NFC Championship Game. Brock Purdy (elbow) got hurt early for San Francisco, and Philly simply didn't need to throw the ball much after that. Smith's 29-yard catch on the Eagles' opening drive was the longest play of the game for either team, however, and set up a six-yard score for Miles Sanders. It still resulted in Smith's lowest yardage total since Week 9, but he and the rest of the Eagles passing game should be a lot busier two weeks from now in the Super Bowl. Brown caught four of eight targets for 28 yards in Sunday's 31-7 win over the 49ers in the NFC Championship Game. The Eagles' passing game never had to ramp it up, as Brock Purdy (elbow) got hurt early for the Niners and their offense struggled with journeyman Josh Johnson (concussion) under center. As a result, Brown had a second straight quiet playoff performance after reaching at least 70 yards in six straight games to close out the regular season. The hip issue that's slowed the fourth-year wideout in practice lately may have also been a factor, but Brown will have two weeks to heal up before the Super Bowl. Goedert caught five of six targets for 23 yards in Sunday's 31-7 win over the 49ers in the NFC Championship Game. It wasn't a big performance by any means, but the tight end's five receptions actually led the Eagles in a game where they didn't need to throw the ball much after the loss of Brock Purdy (elbow) derailed the Niners' offense. Goedert has a 10-81-1 line on 11 targets through two playoff games this season, and he figures to have a solid floor with some upside potential in two weeks during the Super Bowl. Sanders carried the ball 11 times for 42 yards and two touchdowns and caught his only target for three yards in Sunday's 31-7 win over the 49ers. San Francisco's offense fell apart after Brock Purdy (elbow) got hurt, leading to a fairly easy win for Philly and a ground-heavy attack fueled by Sanders TDs in the first and second quarters. Kenneth Gainwell actually ended up leading the Eagles in rushing yards, but he saw most of his touches once the game was out of reach. The scores were Sanders' first since Week 14, and he figures to be a key part of the team's game plan Feb. 12 in the Super Bowl. Hurts completed 15 of 25 passes for 121 yards and added 39 rushing yards and a touchdown on 11 carries in Sunday's 31-7 win over the 49ers in the NFC Championship Game. What seemed like it would be a fearsome battle turned into a rout after the Niners lost Brock Purdy to an elbow injury early in the game and was forced to turn to journeyman Josh Johnson (concussion) under center. As a result, the Eagles didn't really need to air it out at all, and all four of the team's TDs came on the ground. Hurts picked up one of them on a one-year run late in the third quarter, but otherwise didn't need to do too much. The low passing numbers could give rise to questions about the health of his elbow, but with two weeks to rest before the Super Bowl, Hurts should be 100 percent as Philly tries to win its second title in six years. Dickerson was unable to return to Sunday's NFC Championship Game against the 49ers after exiting with a left elbow injury in the second half, Jeff McLane of The Philadelphia Inquirer reports. Dickerson was seen with a brace on his left elbow following Sunday's victory, and it's not yet clear whether his injury will impact his status for Super Bowl LVII on Feb. 12. If he's unavailable, Andre Dillard is a candidate to see increased playing time for Philadelphia. \\n                        No ticket information available.\\n                     © 2004-2023 CBS Interactive. All Rights Reserved. CBS Sports is a registered trademark of CBS Broadcasting Inc. Commissioner.com is a registered trademark of CBS Interactive Inc. Images by Getty Images and US Presswire\""
      ]
     },
     "execution_count": 79,
     "metadata": {},
     "output_type": "execute_result"
    }
   ],
   "source": [
    "web_text"
   ]
  },
  {
   "cell_type": "code",
   "execution_count": 32,
   "metadata": {},
   "outputs": [],
   "source": [
    "ex_query=\"current weather in florida\"\n",
    "search_result_text=get_google_text_from_query(ex_query,api_key=google_api_key,cx=google_engine_id,n=4)"
   ]
  },
  {
   "cell_type": "code",
   "execution_count": 33,
   "metadata": {},
   "outputs": [
    {
     "name": "stdout",
     "output_type": "stream",
     "text": [
      "  Florida, PR recents Rip Current Statement +2 More Rain Don't Miss Today's Forecast for Florida, PR Weather Today in Florida, PR Hourly Forecast Daily Forecast Photo Gallery Recommended Editors' Picks Stay Safe Watching This Winter Health & Activities Air Quality Index Specialty Forecasts Morning Afternoon Evening Overnight Now 11 pm 12 am 1 am 2 am Today Mon 30 Tue 31 Wed 01 Thu 02 Seasonal Allergies and Pollen Count Forecast Occasional rain ending around 11:30 pm. 7:00 am 6:18 pm Grass pollen is low in your area Air quality is considered satisfactory, and air pollution poses little or no risk. We recognize our responsibility to use data and technology for good. Take control of your data. © Copyright TWC Product and Technology LLC 2014, 2023    Hourly Weather-Orlando, FL recents Sunday, January 29 Monday, January 30 Tuesday, January 31 Radar Don't Miss Recommended Photo Gallery Editors' Picks Stay Safe Watching This Winter Top Deals Specialty Forecasts 10 pm 11 pm 12 am 1 am 2 am 3 am 4 am 5 am 6 am 7 am 8 am 9 am 10 am 11 am 12 pm 1 pm 2 pm 3 pm 4 pm 5 pm 6 pm 7 pm 8 pm 9 pm 10 pm 11 pm 12 am 1 am 2 am 3 am 4 am 5 am 6 am 7 am 8 am 9 am 10 am 11 am 12 pm 1 pm 2 pm 3 pm 4 pm 5 pm 6 pm 7 pm 8 pm 9 pm Clear Clear Mostly Clear Partly Cloudy Partly Cloudy Partly Cloudy Partly Cloudy Mostly Clear Mostly Clear Mostly Clear Sunny Mostly Sunny Mostly Sunny Partly Cloudy Partly Cloudy Partly Cloudy Partly Cloudy Partly Cloudy Partly Cloudy Partly Cloudy Partly Cloudy Partly Cloudy Partly Cloudy Partly Cloudy Partly Cloudy Partly Cloudy Partly Cloudy Partly Cloudy Partly Cloudy Partly Cloudy Partly Cloudy Partly Cloudy Partly Cloudy Partly Cloudy Partly Cloudy Partly Cloudy Partly Cloudy Partly Cloudy Partly Cloudy Partly Cloudy Partly Cloudy Partly Cloudy Partly Cloudy Partly Cloudy Partly Cloudy Partly Cloudy Partly Cloudy Partly Cloudy We recognize our responsibility to use data and technology for good. Take control of your data. © Copyright TWC Product and Technology LLC 2014, 2023  \n",
      "Current Weather Conditions: Florida Radar Loop\n",
      "\n",
      " Current Weather Conditions: Florida Radar Loop Weather Radar Weather Radar Contact Information  3301 Gun Club Road\n",
      "West Palm Beach, FL 33406 561-686-8800 800-432-2045 (Florida Only)\n"
     ]
    }
   ],
   "source": [
    "print(search_result_text)"
   ]
  }
 ],
 "metadata": {
  "kernelspec": {
   "display_name": "coffee_env",
   "language": "python",
   "name": "python3"
  },
  "language_info": {
   "codemirror_mode": {
    "name": "ipython",
    "version": 3
   },
   "file_extension": ".py",
   "mimetype": "text/x-python",
   "name": "python",
   "nbconvert_exporter": "python",
   "pygments_lexer": "ipython3",
   "version": "3.9.13 | packaged by conda-forge | (main, May 27 2022, 17:00:33) \n[Clang 13.0.1 ]"
  },
  "orig_nbformat": 4,
  "vscode": {
   "interpreter": {
    "hash": "a8c6824307dd51bed22e89243736abddb6cf815bc48a821ad611f592e74328a9"
   }
  }
 },
 "nbformat": 4,
 "nbformat_minor": 2
}
