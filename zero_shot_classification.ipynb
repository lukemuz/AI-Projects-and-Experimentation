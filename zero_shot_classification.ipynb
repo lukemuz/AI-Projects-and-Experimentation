{
 "cells": [
  {
   "cell_type": "code",
   "execution_count": 1,
   "metadata": {},
   "outputs": [],
   "source": [
    "# imports\n",
    "import pandas as pd\n",
    "import numpy as np\n",
    "\n",
    "from sklearn.metrics import classification_report\n",
    "\n",
    "import openai\n",
    "from tenacity import retry, wait_random_exponential, stop_after_attempt\n",
    "from env.api import openai_api_key\n",
    "from openai.embeddings_utils import cosine_similarity, get_embedding\n",
    "from sklearn.metrics import PrecisionRecallDisplay\n",
    "\n",
    "openai.api_key = openai_api_key\n",
    "\n",
    "# parameters\n",
    "EMBEDDING_MODEL = \"text-embedding-ada-002\"\n",
    "\n",
    "\n",
    "\n"
   ]
  },
  {
   "cell_type": "code",
   "execution_count": 4,
   "metadata": {},
   "outputs": [],
   "source": [
    "\n",
    "model = EMBEDDING_MODEL\n",
    "label_embeddings = [get_embedding(label, engine=model) for label in labels]\n",
    "\n"
   ]
  },
  {
   "cell_type": "code",
   "execution_count": 5,
   "metadata": {},
   "outputs": [],
   "source": [
    "\n",
    "def label_query(query:str,labels,label_embeddings):\n",
    "    query_embedding=get_embedding(query, engine=model)\n",
    "    max_similarity=-2\n",
    "    best_label=\"\"\n",
    "    for label, embedding in zip(labels,label_embeddings):\n",
    "        sim_iter=cosine_similarity(query_embedding,embedding)\n",
    "        if sim_iter > max_similarity:\n",
    "            max_similarity=sim_iter\n",
    "            best_label=label\n",
    "    return best_label, max_similarity\n"
   ]
  },
  {
   "attachments": {},
   "cell_type": "markdown",
   "metadata": {},
   "source": [
    "## Examples"
   ]
  },
  {
   "cell_type": "code",
   "execution_count": 7,
   "metadata": {},
   "outputs": [
    {
     "data": {
      "text/plain": [
       "('A query that requires a creative response with poetry', 0.8562462583505818)"
      ]
     },
     "execution_count": 7,
     "metadata": {},
     "output_type": "execute_result"
    }
   ],
   "source": [
    "label_query('Write me a poem about the universe',labels=labels,label_embeddings=label_embeddings)"
   ]
  },
  {
   "cell_type": "code",
   "execution_count": 8,
   "metadata": {},
   "outputs": [
    {
     "data": {
      "text/plain": [
       "('A query that requires a factual responses about sports', 0.7818099594723893)"
      ]
     },
     "execution_count": 8,
     "metadata": {},
     "output_type": "execute_result"
    }
   ],
   "source": [
    "label_query(\"Who's winning the nfl game right now?\",labels=labels,label_embeddings=label_embeddings)"
   ]
  },
  {
   "cell_type": "code",
   "execution_count": 9,
   "metadata": {},
   "outputs": [
    {
     "data": {
      "text/plain": [
       "('A query that requires a response with a summary of recommendations about a product or service',\n",
       " 0.7414879988313774)"
      ]
     },
     "execution_count": 9,
     "metadata": {},
     "output_type": "execute_result"
    }
   ],
   "source": [
    "label_query(\"What are the best car seats available for a newborn?\",labels=labels,label_embeddings=label_embeddings)"
   ]
  },
  {
   "cell_type": "code",
   "execution_count": 10,
   "metadata": {},
   "outputs": [
    {
     "data": {
      "text/plain": [
       "('A query that requires a response with information on where to purchase a product or service',\n",
       " 0.7696369061485883)"
      ]
     },
     "execution_count": 10,
     "metadata": {},
     "output_type": "execute_result"
    }
   ],
   "source": [
    "label_query(\"Deals on car seats\",labels=labels,label_embeddings=label_embeddings)"
   ]
  },
  {
   "cell_type": "code",
   "execution_count": 11,
   "metadata": {},
   "outputs": [
    {
     "data": {
      "text/plain": [
       "('A query that requires a factual responses about sports', 0.7457390735342897)"
      ]
     },
     "execution_count": 11,
     "metadata": {},
     "output_type": "execute_result"
    }
   ],
   "source": [
    "label_query(\"What's the best way to catch fish from shore in Florida?\",labels=labels,label_embeddings=label_embeddings)"
   ]
  },
  {
   "cell_type": "code",
   "execution_count": 12,
   "metadata": {},
   "outputs": [
    {
     "data": {
      "text/plain": [
       "('A query that requires a creative response with a instructions',\n",
       " 0.7562539656475815)"
      ]
     },
     "execution_count": 12,
     "metadata": {},
     "output_type": "execute_result"
    }
   ],
   "source": [
    "label_query(\"What's a recipe for apple pie with a Thai influence?\",labels=labels,label_embeddings=label_embeddings)"
   ]
  },
  {
   "cell_type": "code",
   "execution_count": 13,
   "metadata": {},
   "outputs": [
    {
     "data": {
      "text/plain": [
       "('A query that requires a creative response with a generated image',\n",
       " 0.7861064408464753)"
      ]
     },
     "execution_count": 13,
     "metadata": {},
     "output_type": "execute_result"
    }
   ],
   "source": [
    "label_query(\"Paint me a picture of Arnold Schwarzenegger at the gym\",labels=labels,label_embeddings=label_embeddings)"
   ]
  },
  {
   "cell_type": "code",
   "execution_count": 6,
   "metadata": {},
   "outputs": [
    {
     "data": {
      "text/plain": [
       "('A query that requires a creative response with instructions',\n",
       " 0.7541776511927886)"
      ]
     },
     "execution_count": 6,
     "metadata": {},
     "output_type": "execute_result"
    }
   ],
   "source": [
    "label_query(\"Text my mom that we'll be there soon.\",labels=labels,label_embeddings=label_embeddings)"
   ]
  },
  {
   "cell_type": "code",
   "execution_count": 9,
   "metadata": {},
   "outputs": [
    {
     "data": {
      "text/plain": [
       "('A query that requires a response with a link to a video', 0.7871460369838215)"
      ]
     },
     "execution_count": 9,
     "metadata": {},
     "output_type": "execute_result"
    }
   ],
   "source": [
    "label_query(\"Kayak fishing videos\",labels=labels,label_embeddings=label_embeddings)"
   ]
  },
  {
   "cell_type": "code",
   "execution_count": 10,
   "metadata": {},
   "outputs": [
    {
     "data": {
      "text/plain": [
       "('A query that requires a factual responses about sports', 0.7362744668383208)"
      ]
     },
     "execution_count": 10,
     "metadata": {},
     "output_type": "execute_result"
    }
   ],
   "source": [
    "label_query(\"Best exercises to defeat target panic in archery\",labels=labels,label_embeddings=label_embeddings)"
   ]
  }
 ],
 "metadata": {
  "kernelspec": {
   "display_name": "coffee_env",
   "language": "python",
   "name": "python3"
  },
  "language_info": {
   "codemirror_mode": {
    "name": "ipython",
    "version": 3
   },
   "file_extension": ".py",
   "mimetype": "text/x-python",
   "name": "python",
   "nbconvert_exporter": "python",
   "pygments_lexer": "ipython3",
   "version": "3.9.13 | packaged by conda-forge | (main, May 27 2022, 17:00:33) \n[Clang 13.0.1 ]"
  },
  "orig_nbformat": 4,
  "vscode": {
   "interpreter": {
    "hash": "a8c6824307dd51bed22e89243736abddb6cf815bc48a821ad611f592e74328a9"
   }
  }
 },
 "nbformat": 4,
 "nbformat_minor": 2
}
